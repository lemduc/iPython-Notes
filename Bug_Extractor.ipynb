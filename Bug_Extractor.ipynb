{
 "cells": [
  {
   "cell_type": "code",
   "execution_count": 8,
   "metadata": {
    "collapsed": false
   },
   "outputs": [
    {
     "name": "stdout",
     "output_type": "stream",
     "text": [
      "CXF\n",
      ".Total number of issues: 5\n"
     ]
    }
   ],
   "source": [
    "import time\n",
    "import json\n",
    "from jira import JIRA\n",
    "\n",
    "\n",
    "options ={\n",
    "    'server':'https://issues.apache.org/jira/'\n",
    "}\n",
    "\n",
    "project_name = \"CXF\"\n",
    "\n",
    "jira = JIRA(options)\n",
    "sess_get = jira._session.get\n",
    "projects = jira.projects()\n",
    "\n",
    "\n",
    "for p in projects:\n",
    "    #print(p.name)\n",
    "    if p.name == project_name:\n",
    "        project = p\n",
    "        print(project.name)\n",
    "        break\n",
    "            \n",
    "issues = []            \n",
    "\n",
    "\n",
    "keepCrawling = True\n",
    "i = 0\n",
    "while keepCrawling:\n",
    "    tmp = jira.search_issues('project='+project.key+ ' AND status in (Resolved, Closed) AND resolution=Fixed', startAt=i, maxResults=5)\n",
    "    print('.', end=\"\")\n",
    "    if (len(tmp) > 0):\n",
    "        issues.extend(tmp)\n",
    "        i = i + 100\n",
    "        keepCrawling = False #temple limitation\n",
    "    else:\n",
    "        keepCrawling = False\n",
    "\n",
    "#Jira on Apache has a limitation of 100\n",
    "print('Total number of issues: '+str(len(issues)))\n",
    "\n"
   ]
  },
  {
   "cell_type": "code",
   "execution_count": 7,
   "metadata": {
    "collapsed": false
   },
   "outputs": [
    {
     "name": "stdout",
     "output_type": "stream",
     "text": [
      "."
     ]
    }
   ],
   "source": [
    "import time\n",
    "import datetime\n",
    "from datetime import datetime, date\n",
    "from collections import OrderedDict\n",
    "\n",
    "storeIssues = []\n",
    "\n",
    "timeFormat = \"%Y-%m-%dT%H:%M:%S.000+0000\"\n",
    "\n",
    "for issue in issues:\n",
    "    print('.', end=\"\")\n",
    "    exportedData = OrderedDict([])\n",
    "    \n",
    "    try:\n",
    "        affectversion = {'affect':issue.fields.versions[0].name}\n",
    "    except Exception:\n",
    "        affectversion = {'affect':\"\"}\n",
    "        \n",
    "   # try:\n",
    "   #     allaffectversion = {'all_affect':issue.fields.versions.name}\n",
    "   # except Exception:\n",
    "   #     allaffectversion = {'all_affect':\"\"}\n",
    "    \n",
    "    try:\n",
    "        fixversion    = {'fix':issue.fields.fixVersions[0].name}\n",
    "    except Exception:\n",
    "        fixversion = {'fix':\"\"}\n",
    "        \n",
    "    \n",
    "    priority      = {'priority':issue.fields.priority.name}\n",
    "    resolvedDate  = datetime.strptime(issue.fields.resolutiondate, timeFormat)\n",
    "    createdDate   = datetime.strptime(issue.fields.created, timeFormat)\n",
    "    fixdays       = {'time':(resolvedDate - createdDate).seconds}\n",
    "    issue_type    = {'type':issue.fields.issuetype.name}\n",
    "    issue_id      = {'issue_id':issue.key}\n",
    "   \n",
    "    #print(affectversion)\n",
    "    #print(fixversion)\n",
    "    #print(priority)\n",
    "    #print(fixdays)\n",
    "    exportedData.update(issue_id)\n",
    "    exportedData.update(affectversion)\n",
    "    exportedData.update(fixversion)\n",
    "    exportedData.update(priority)\n",
    "    exportedData.update(issue_type)\n",
    "    exportedData.update(fixdays)\n",
    "    \n",
    "    DEV_STATUS = 'https://issues.apache.org/jira/rest/dev-status/1.0'\n",
    "    _issue = 'issue/detail?issueId=%s' % issue.id\n",
    "    _args = 'applicationType=fecru&dataType=repository&_=%s' % int(time.time())\n",
    "    req_url = '%s/%s&%s' % (DEV_STATUS, _issue, _args)\n",
    "    response = sess_get(req_url)\n",
    "    raw_data = json.loads(response.content.decode('utf-8'))\n",
    "    #print(issue)\n",
    "    #print(raw_data)\n",
    "    try:\n",
    "        hasCommit = True\n",
    "        commits = raw_data['detail'][0]['repositories'][0]['commits']\n",
    "        #storeIssues.append(response.content.decode('utf-8'))\n",
    "    except IndexError:\n",
    "        hasCommit = False\n",
    "    if hasCommit:\n",
    "        commitList = []\n",
    "        for commit in commits:\n",
    "            #print(req)\n",
    "            #print(issue.id) \n",
    "            patches = []\n",
    "            #print('%s\\n%s\\n\\n' % (req['displayId'], req['files']))\n",
    "            for file in commit['files']:\n",
    "                patches.append({'filename':file['path']})\n",
    "            commitList.append({'files':patches})\n",
    "            #print(patches)\n",
    "        exportedData.update({'commits':commitList})\n",
    "        storeIssues.append(exportedData)\n",
    "    \n",
    "\n",
    "            \n",
    "with open(project_name+'_data.json', 'w') as outfile:\n",
    "    json.dump(storeIssues, outfile)\n",
    "    \n",
    "#print(issues)\n",
    "\n",
    "#issue = jira.issue('JRA-9')\n",
    "#print(issue.fields.project.key)             # 'JRA'\n",
    "#print(issue.fields.issuetype.name)          # 'New Feature'\n",
    "#print(issue.fields.reporter.displayName)  # 'Mike Cannon-Brookes [Atlassian]'"
   ]
  },
  {
   "cell_type": "code",
   "execution_count": null,
   "metadata": {
    "collapsed": true
   },
   "outputs": [],
   "source": []
  }
 ],
 "metadata": {
  "kernelspec": {
   "display_name": "Python 3",
   "language": "python",
   "name": "python3"
  },
  "language_info": {
   "codemirror_mode": {
    "name": "ipython",
    "version": 3
   },
   "file_extension": ".py",
   "mimetype": "text/x-python",
   "name": "python",
   "nbconvert_exporter": "python",
   "pygments_lexer": "ipython3",
   "version": "3.5.0"
  }
 },
 "nbformat": 4,
 "nbformat_minor": 0
}
