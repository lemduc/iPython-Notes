{
 "cells": [
  {
   "cell_type": "code",
   "execution_count": 41,
   "metadata": {
    "collapsed": false
   },
   "outputs": [
    {
     "name": "stdout",
     "output_type": "stream",
     "text": [
      "ActiveMQ\n",
      "12955093\n",
      "98165c4\n",
      "[{'linesAdded': 2, 'linesRemoved': 1, 'changeType': 'MODIFIED', 'url': 'https://fisheye6.atlassian.com/browse/activemq-git/activemq-amqp/src/main/java/org/apache/activemq/transport/amqp/AmqpFrameParser.java?r1=61a3eab8ab4a1280c285229830820dea4db1d7f7&r2=98165c4b69f0a5df93a7c964b9b9e143c7f7a083', 'path': 'activemq-amqp/src/main/java/org/apache/activemq/transport/amqp/AmqpFrameParser.java'}, {'linesAdded': 3, 'linesRemoved': 2, 'changeType': 'MODIFIED', 'url': 'https://fisheye6.atlassian.com/browse/activemq-git/activemq-client/src/main/java/org/apache/activemq/openwire/OpenWireFormat.java?r1=13044deccea1e1bd6849dbe0babb6720aed634ac&r2=98165c4b69f0a5df93a7c964b9b9e143c7f7a083', 'path': 'activemq-client/src/main/java/org/apache/activemq/openwire/OpenWireFormat.java'}, {'linesAdded': 33, 'linesRemoved': 0, 'changeType': 'MODIFIED', 'url': 'https://fisheye6.atlassian.com/browse/activemq-git/activemq-client/src/main/java/org/apache/activemq/util/IOExceptionSupport.java?r1=9a8f6e415db43a4e43ad42a87b3617b3641aa07d&r2=98165c4b69f0a5df93a7c964b9b9e143c7f7a083', 'path': 'activemq-client/src/main/java/org/apache/activemq/util/IOExceptionSupport.java'}]\n",
      "\n",
      "\n",
      "12954762\n"
     ]
    },
    {
     "ename": "IndexError",
     "evalue": "list index out of range",
     "output_type": "error",
     "traceback": [
      "\u001b[1;31m---------------------------------------------------------------------------\u001b[0m",
      "\u001b[1;31mIndexError\u001b[0m                                Traceback (most recent call last)",
      "\u001b[1;32m<ipython-input-41-2d19fe2f4b59>\u001b[0m in \u001b[0;36m<module>\u001b[1;34m()\u001b[0m\n\u001b[0;32m     29\u001b[0m     \u001b[0mresponse\u001b[0m \u001b[1;33m=\u001b[0m \u001b[0msess_get\u001b[0m\u001b[1;33m(\u001b[0m\u001b[0mreq_url\u001b[0m\u001b[1;33m)\u001b[0m\u001b[1;33m\u001b[0m\u001b[0m\n\u001b[0;32m     30\u001b[0m     \u001b[0mraw_data\u001b[0m \u001b[1;33m=\u001b[0m \u001b[0mjson\u001b[0m\u001b[1;33m.\u001b[0m\u001b[0mloads\u001b[0m\u001b[1;33m(\u001b[0m\u001b[0mresponse\u001b[0m\u001b[1;33m.\u001b[0m\u001b[0mcontent\u001b[0m\u001b[1;33m.\u001b[0m\u001b[0mdecode\u001b[0m\u001b[1;33m(\u001b[0m\u001b[1;34m'utf-8'\u001b[0m\u001b[1;33m)\u001b[0m\u001b[1;33m)\u001b[0m\u001b[1;33m\u001b[0m\u001b[0m\n\u001b[1;32m---> 31\u001b[1;33m     \u001b[1;32mfor\u001b[0m \u001b[0mreq\u001b[0m \u001b[1;32min\u001b[0m \u001b[0mraw_data\u001b[0m\u001b[1;33m[\u001b[0m\u001b[1;34m'detail'\u001b[0m\u001b[1;33m]\u001b[0m\u001b[1;33m[\u001b[0m\u001b[1;36m0\u001b[0m\u001b[1;33m]\u001b[0m\u001b[1;33m[\u001b[0m\u001b[1;34m'repositories'\u001b[0m\u001b[1;33m]\u001b[0m\u001b[1;33m[\u001b[0m\u001b[1;36m0\u001b[0m\u001b[1;33m]\u001b[0m\u001b[1;33m[\u001b[0m\u001b[1;34m'commits'\u001b[0m\u001b[1;33m]\u001b[0m\u001b[1;33m:\u001b[0m\u001b[1;33m\u001b[0m\u001b[0m\n\u001b[0m\u001b[0;32m     32\u001b[0m         \u001b[1;31m#print(req)\u001b[0m\u001b[1;33m\u001b[0m\u001b[1;33m\u001b[0m\u001b[0m\n\u001b[0;32m     33\u001b[0m         \u001b[0mprint\u001b[0m\u001b[1;33m(\u001b[0m\u001b[1;34m'%s\\n%s\\n\\n'\u001b[0m \u001b[1;33m%\u001b[0m \u001b[1;33m(\u001b[0m\u001b[0mreq\u001b[0m\u001b[1;33m[\u001b[0m\u001b[1;34m'displayId'\u001b[0m\u001b[1;33m]\u001b[0m\u001b[1;33m,\u001b[0m \u001b[0mreq\u001b[0m\u001b[1;33m[\u001b[0m\u001b[1;34m'files'\u001b[0m\u001b[1;33m]\u001b[0m\u001b[1;33m)\u001b[0m\u001b[1;33m)\u001b[0m\u001b[1;33m\u001b[0m\u001b[0m\n",
      "\u001b[1;31mIndexError\u001b[0m: list index out of range"
     ]
    }
   ],
   "source": [
    "import time\n",
    "import json\n",
    "from jira import JIRA\n",
    "\n",
    "\n",
    "options ={\n",
    "    'server':'https://issues.apache.org/jira/'\n",
    "}\n",
    "\n",
    "project_name = \"ActiveMQ\"\n",
    "\n",
    "jira = JIRA(options)\n",
    "sess_get = jira._session.get\n",
    "projects = jira.projects()\n",
    "\n",
    "print(project.name)\n",
    "for p in projects:\n",
    "    if p.name == project_name:\n",
    "        project = p\n",
    "        break\n",
    "            \n",
    "issues = jira.search_issues('project='+project.name)\n",
    "for issue in issues:\n",
    "    print(issue.id) \n",
    "    DEV_STATUS = 'https://issues.apache.org/jira/rest/dev-status/1.0'\n",
    "    _issue = 'issue/detail?issueId=%s' % issue.id\n",
    "    _args = 'applicationType=fecru&dataType=repository&_=%s' % int(time.time())\n",
    "    req_url = '%s/%s&%s' % (DEV_STATUS, _issue, _args)\n",
    "    response = sess_get(req_url)\n",
    "    raw_data = json.loads(response.content.decode('utf-8'))\n",
    "    for req in raw_data['detail'][0]['repositories'][0]['commits']:\n",
    "        #print(req)\n",
    "        print('%s\\n%s\\n\\n' % (req['displayId'], req['files']))\n",
    "\n",
    "    \n",
    "#print(issues)\n",
    "\n",
    "#issue = jira.issue('JRA-9')\n",
    "#print(issue.fields.project.key)             # 'JRA'\n",
    "#print(issue.fields.issuetype.name)          # 'New Feature'\n",
    "#print(issue.fields.reporter.displayName)  # 'Mike Cannon-Brookes [Atlassian]'\n"
   ]
  },
  {
   "cell_type": "code",
   "execution_count": null,
   "metadata": {
    "collapsed": true
   },
   "outputs": [],
   "source": []
  },
  {
   "cell_type": "code",
   "execution_count": null,
   "metadata": {
    "collapsed": true
   },
   "outputs": [],
   "source": []
  }
 ],
 "metadata": {
  "kernelspec": {
   "display_name": "Python 3",
   "language": "python",
   "name": "python3"
  },
  "language_info": {
   "codemirror_mode": {
    "name": "ipython",
    "version": 3
   },
   "file_extension": ".py",
   "mimetype": "text/x-python",
   "name": "python",
   "nbconvert_exporter": "python",
   "pygments_lexer": "ipython3",
   "version": "3.5.0"
  }
 },
 "nbformat": 4,
 "nbformat_minor": 0
}
