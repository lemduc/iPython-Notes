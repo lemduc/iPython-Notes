{
 "cells": [
  {
   "cell_type": "code",
   "execution_count": 3,
   "metadata": {
    "collapsed": false
   },
   "outputs": [
    {
     "data": {
      "text/plain": [
       "'/home/lemduc/Dropbox/iPython notes'"
      ]
     },
     "execution_count": 3,
     "metadata": {},
     "output_type": "execute_result"
    }
   ],
   "source": [
    "%pwd\n"
   ]
  },
  {
   "cell_type": "code",
   "execution_count": 4,
   "metadata": {
    "collapsed": false
   },
   "outputs": [
    {
     "name": "stdout",
     "output_type": "stream",
     "text": [
      "/home/lemduc/Dropbox/iPython notes/ActiveMQ\n"
     ]
    }
   ],
   "source": [
    "%cd ActiveMQ/\n"
   ]
  },
  {
   "cell_type": "code",
   "execution_count": 7,
   "metadata": {
    "collapsed": true
   },
   "outputs": [],
   "source": [
    "files = !ls -l -S -R | grep .out\n"
   ]
  },
  {
   "cell_type": "code",
   "execution_count": 8,
   "metadata": {
    "collapsed": false
   },
   "outputs": [
    {
     "data": {
      "text/plain": [
       "['-rw-rw-r-- 1 lemduc lemduc    307 Feb  3  2015 ActiveMQ-ActiveMQ_Last1First2-ACDC-A2A.out',\n",
       " '-rw-rw-r-- 1 lemduc lemduc    307 Feb  5  2015 ActiveMQ-ActiveMQ_Last2First3-ACDC-A2A.out',\n",
       " '-rw-rw-r-- 1 lemduc lemduc     311 Feb  5  2015 ActiveMQ-ActiveMQ_Last3First4-ACDC-A2A.out',\n",
       " '-rw-rw-r-- 1 lemduc lemduc     587 Feb  2  2015 ActiveMQ-activeMQMajor-ACDC-A2A.out',\n",
       " '-rw-rw-r-- 1 lemduc lemduc     572 Feb  5  2015 ActiveMQ-ActiveMQ_Major-ACDC-A2A.out',\n",
       " '-rw-rw-r-- 1 lemduc lemduc   1037 Feb  2  2015 ActiveMQ-ActiveMQ_Manor1-ACDC-A2A.out',\n",
       " '-rw-rw-r-- 1 lemduc lemduc    307 Feb  2  2015 ActiveMQ-ActiveMQ_Manor2-ACDC-A2A.out',\n",
       " '-rw-rw-r-- 1 lemduc lemduc     433 Feb  2  2015 ActiveMQ-ActiveMQ_Manor3-ACDC-A2A.out',\n",
       " '-rw-rw-r-- 1 lemduc lemduc     576 Feb  3  2015 ActiveMQ-ActiveMQ_Patch3.2-ACDC-A2A.out',\n",
       " '-rw-rw-r-- 1 lemduc lemduc     961 Feb  3  2015 ActiveMQ-ActiveMQ_PreReleases3.1.0-ACDC-A2A.out',\n",
       " '-rw-rw-r-- 1 lemduc lemduc     427 Feb  3  2015 ActiveMQ-ActiveMQ_PreReleases4.0.0-ACDC-A2A.out',\n",
       " '-rw-rw-r-- 1 lemduc lemduc    2920 Feb  5  2015 ActiveMQ-all-ACDC-A2A.out']"
      ]
     },
     "execution_count": 8,
     "metadata": {},
     "output_type": "execute_result"
    }
   ],
   "source": [
    "files"
   ]
  },
  {
   "cell_type": "code",
   "execution_count": 9,
   "metadata": {
    "collapsed": false
   },
   "outputs": [],
   "source": [
    "import os\n",
    "from operator import itemgetter\n",
    "\n",
    "#Define the comparison Type\n",
    "Com_type = \"Patch\"\n",
    "#Com_type = \"Pre\"\n",
    "\n",
    "#Get the name and file size\n",
    "files = [(file, os.stat(file).st_size) \n",
    "        for file in os.listdir('.')\n",
    "            if file.endswith('.out') & (Com_type in file)]\n",
    "\n",
    "#sort by file size\n",
    "files = sorted(files, key=itemgetter(1), reverse=True)\n",
    "\n",
    "#keep the first item\n",
    "files = [file for (file, size) in files]\n"
   ]
  },
  {
   "cell_type": "code",
   "execution_count": 10,
   "metadata": {
    "collapsed": false
   },
   "outputs": [
    {
     "data": {
      "text/plain": [
       "['pgjdbc-pgjdbc_Patch8_0-ACDC-A2A.out',\n",
       " 'testng-testng_Patches6_8-ACDC-A2A.out',\n",
       " 'httpclient-httpclient_Patches4.3-ACDC-A2A.out',\n",
       " 'httpclient-httpclient_Patches4.2-ACDC-A2A.out',\n",
       " 'pgjdbc-pgjdbc_Patch8_1-ACDC-A2A.out',\n",
       " 'JSPWiki-JSPWikiPatches2.4-ACDC-A2A.out',\n",
       " 'tiles-tilesPatches2.0-ACDC-A2A.out',\n",
       " 'JSPWiki-JSPWikiPatches2.2-ACDC-A2A.out',\n",
       " 'pgjdbc-pgjdbc_Patch8_2-ACDC-A2A.out',\n",
       " 'testng-testng_Patches6_9-ACDC-A2A.out',\n",
       " 'tiles-tilesPatches3.0-ACDC-A2A.out',\n",
       " 'spring-spring_Patches3_2-ACDC-A2A.out',\n",
       " 'jackson-databind-jackson-databind_Patch2_4-ACDC-A2A.out',\n",
       " 'tiles-tilesPatches2.1-ACDC-A2A.out',\n",
       " 'JSPWiki-JSPWikiPatches2.8-ACDC-A2A.out',\n",
       " 'jackson-databind-jackson-databind_Patch2_1-ACDC-A2A.out',\n",
       " 'jackson-databind-jackson-databind_Patch2_0-ACDC-A2A.out',\n",
       " 'pgjdbc-pgjdbc_Patch9_3-ACDC-A2A.out',\n",
       " 'pgjdbc-pgjdbc_Patch9_4-ACDC-A2A.out',\n",
       " 'jackson-databind-jackson-databind_Patch2_3-ACDC-A2A.out',\n",
       " 'pgjdbc-pgjdbc_Patch8_3-ACDC-A2A.out',\n",
       " 'httpclient-httpclient_Patches4.0-ACDC-A2A.out',\n",
       " 'accumulo-accumuloPatches1.5-ACDC-A2A.out',\n",
       " 'jackson-databind-jackson-databind_Patch2_5-ACDC-A2A.out',\n",
       " 'httpclient-httpclient_Patches4.1-ACDC-A2A.out',\n",
       " 'ActiveMQ-ActiveMQ_Patch3.2-ACDC-A2A.out',\n",
       " 'JSPWiki-JSPWikiPatches2.5-ACDC-A2A.out',\n",
       " 'jackson-databind-jackson-databind_Patch2_2-ACDC-A2A.out',\n",
       " 'spring-spring_Patches4_1-ACDC-A2A.out',\n",
       " 'JSPWiki-JSPWikiPatches2.6-ACDC-A2A.out',\n",
       " 'accumulo-accumuloPatches1.6-ACDC-A2A.out',\n",
       " 'pgjdbc-pgjdbc_Patch9_2-ACDC-A2A.out',\n",
       " 'jackson-databind-jackson-databind_Patch2_6-ACDC-A2A.out',\n",
       " 'tiles-tilesPatches2.2-ACDC-A2A.out',\n",
       " 'pgjdbc-pgjdbc_Patch8_4-ACDC-A2A.out',\n",
       " 'JSPWiki-JSPWikiPatches1.5-ACDC-A2A.out',\n",
       " 'pgjdbc-pgjdbc_Patch9_1-ACDC-A2A.out',\n",
       " 'testng-testng_Patches5_14-ACDC-A2A.out',\n",
       " 'poi-poiPatches3_10-ACDC-A2A.out',\n",
       " 'JSPWiki-JSPWikiPatches2.10-ACDC-A2A.out',\n",
       " 'JSPWiki-JSPWikiPatches2.9-ACDC-A2A.out',\n",
       " 'pgjdbc-pgjdbc_Patch9_0-ACDC-A2A.out',\n",
       " 'testng-testng_Patches6_5-ACDC-A2A.out',\n",
       " 'testng-testng_Patches6_2-ACDC-A2A.out',\n",
       " 'testng-testng_Patches6_0-ACDC-A2A.out',\n",
       " 'httpclient-httpclient_Patches4.4-ACDC-A2A.out',\n",
       " 'testng-testng_Patches6_3-ACDC-A2A.out',\n",
       " 'JSPWiki-JSPWikiPatches1.6-ACDC-A2A.out',\n",
       " 'JSPWiki-JSPWikiPatches1.8-ACDC-A2A.out',\n",
       " 'assertj-assertj_Patch1_6-ACDC-A2A.out',\n",
       " 'assertj-assertj_Patch1_7-ACDC-A2A.out',\n",
       " 'testng-testng_Patches6_1-ACDC-A2A.out',\n",
       " 'httpclient-httpclient_Patches4.5-ACDC-A2A.out']"
      ]
     },
     "execution_count": 10,
     "metadata": {},
     "output_type": "execute_result"
    }
   ],
   "source": [
    "files"
   ]
  },
  {
   "cell_type": "code",
   "execution_count": 11,
   "metadata": {
    "collapsed": false
   },
   "outputs": [
    {
     "name": "stdout",
     "output_type": "stream",
     "text": [
      "[98.55072463768117, 99.91023339317773, 100.0, 100.0, 100.0, 100.0, 99.82078853046595, 100.0, 100.0, 100.0, 99.73166368515206, 99.82078853046595, 100.0, 91.34377576257214, 99.84732824427482, 100.0, 99.96857322438719, 100.0, 100.0, 100.0, 99.77973568281938, 100.0, 99.93698802772528, 100.0, 100.0, 100.0, 100.0, 99.81120201384519, 99.937106918239, 100.0, 100.0, 100.0, 100.0, 99.75711311589174, 99.8961937716263, 98.78976486860304, 99.51823812801102, 99.82900136798905, 92.9324894514768, 97.12437095614665, 99.00920028308563, 96.18402282453637, 97.12437095614665, 99.00920028308563, 98.21802935010481, 99.61038961038962, 99.13344887348353, 99.6524761077324, 99.86956521739131, 99.95655951346654, 94.72295514511873, 98.41129744042365, 96.68989547038328, 95.12302284710017, 98.41129744042365, 98.56146469049695, 100.0, 99.84051036682615, 100.0, 100.0, 99.12559618441972, 99.68253968253968, 99.84101748807632, 100.0, 92.38728750923872, 99.86187845303867, 100.0, 95.03247993886129, 93.8167096061833, 97.94668587896254, 100.0, 98.92395982783357, 98.04409672830725, 100.0, 100.0, 100.0, 94.6949602122016, 76.60818713450293, 100.0, 76.43312101910828, 98.92966360856269, 98.05389221556887, 98.23008849557522, 95.4868154158215, 99.89868287740629, 99.89858012170384, 100.0, 93.3768188660311, 99.00695134061569, 96.89655172413794, 99.30662557781201, 99.69278033794163, 99.84615384615385, 99.69278033794163, 99.84662576687117, 99.61597542242704, 100.0, 100.0, 100.0, 100.0, 100.0, 99.34333958724203, 99.28571428571429, 100.0, 100.0, 100.0, 100.0, 100.0, 100.0, 99.9755938821998, 99.80065093572009, 99.81692432872254, 99.83728592930073, 99.85355137905785, 99.93876301285977, 99.72375690607734, 100.0, 98.55384615384615, 99.9384236453202, 99.75384615384615, 94.88243430152143, 97.46328437917224, 99.60732984293193, 99.47916666666666, 99.61583924349881, 99.55921245959448, 98.86792452830188, 99.94246260069045, 100.0, 98.96707553260168, 100.0, 98.96840747904577, 99.93556701030928, 99.93079584775086, 100.0, 100.0, 99.7581202487906, 99.93089149965446, 99.63805584281282, 99.69104016477857, 99.53846153846155, 100.0, 100.0, 95.10552312528064, 99.82190560997329, 99.95555555555555, 100.0, 100.0, 100.0, 99.96956786366404, 100.0, 99.69696969696969, 99.69696969696969, 99.54476479514416, 100.0, 98.88268156424581, 99.88839285714286, 100.0, 97.41282339707537, 99.27920288318846, 99.38012187434336, 99.84306340238544, 100.0, 99.90996398559425, 99.67046135410426, 100.0, 99.9700777977259, 99.90215264187867, 99.95112414467253, 99.50980392156863, 100.0, 99.99016522423288, 99.89181746656176, 99.87219819111286, 88.72180451127821, 99.58046149235841, 98.21162444113264, 100.0, 99.812734082397, 100.0, 100.0, 99.74442460525856, 98.67218186242135, 99.67215377713359, 99.73341232227489, 99.91124260355029, 100.0, 96.22396958437743, 99.59105324653648, 99.98333888703766, 99.89572471324296, 100.0, 100.0, 100.0, 99.82046678635548, 99.82068141063957, 81.4935064935065, 100.0, 99.59128065395095, 99.8639455782313, 94.0, 98.74213836477988, 100.0, 99.88235294117646, 100.0, 99.65870307167235, 99.9681224099458, 97.14201532115499, 97.88812785388129, 89.3765903307888, 99.92498124531133, 99.78973927670312, 99.02830587241233, 99.96827411167513, 99.53820319059614, 96.875, 100.0, 100.0, 100.0, 100.0, 100.0]\n"
     ]
    }
   ],
   "source": [
    "import os\n",
    "\n",
    "a = []\n",
    "for file in files:\n",
    "    with open(file) as f:\n",
    "            for line in f:\n",
    "                    if line.startswith('SysEvo'):\n",
    "                        tmp = line.split(':')\n",
    "                        a.append(float(tmp[1]))\n",
    "print(a)\n",
    "                    "
   ]
  },
  {
   "cell_type": "code",
   "execution_count": 13,
   "metadata": {
    "collapsed": false
   },
   "outputs": [
    {
     "name": "stdout",
     "output_type": "stream",
     "text": [
      "[98.55072463768117]\n",
      "[99.91023339317773]\n",
      "[100.0]\n",
      "[100.0]\n",
      "[100.0]\n",
      "[100.0]\n",
      "[99.82078853046595]\n",
      "[100.0]\n",
      "[100.0]\n",
      "[100.0]\n",
      "[99.73166368515206]\n",
      "[99.82078853046595]\n",
      "[100.0]\n",
      "[91.34377576257214]\n",
      "[99.84732824427482]\n",
      "[100.0]\n",
      "[99.96857322438719]\n",
      "[100.0]\n",
      "[100.0]\n",
      "[100.0]\n",
      "[99.77973568281938]\n",
      "[100.0]\n",
      "[99.93698802772528]\n",
      "[100.0]\n",
      "[100.0]\n",
      "[100.0]\n",
      "[100.0]\n",
      "[99.81120201384519]\n",
      "[99.937106918239]\n",
      "[100.0]\n",
      "[100.0]\n",
      "[100.0]\n",
      "[100.0]\n",
      "[99.75711311589174]\n",
      "[99.8961937716263]\n",
      "[98.78976486860304]\n",
      "[99.51823812801102]\n",
      "[99.82900136798905]\n",
      "[92.9324894514768]\n",
      "[97.12437095614665]\n",
      "[99.00920028308563]\n",
      "[96.18402282453637]\n",
      "[97.12437095614665]\n",
      "[99.00920028308563]\n",
      "[98.21802935010481]\n",
      "[99.61038961038962]\n",
      "[99.13344887348353]\n",
      "[99.6524761077324]\n",
      "[99.86956521739131]\n",
      "[99.95655951346654]\n",
      "[94.72295514511873]\n",
      "[98.41129744042365]\n",
      "[96.68989547038328]\n",
      "[95.12302284710017]\n",
      "[98.41129744042365]\n",
      "[98.56146469049695]\n",
      "[100.0]\n",
      "[99.84051036682615]\n",
      "[100.0]\n",
      "[100.0]\n",
      "[99.12559618441972]\n",
      "[99.68253968253968]\n",
      "[99.84101748807632]\n",
      "[100.0]\n",
      "[92.38728750923872]\n",
      "[99.86187845303867]\n",
      "[100.0]\n",
      "[95.03247993886129]\n",
      "[93.8167096061833]\n",
      "[97.94668587896254]\n",
      "[100.0]\n",
      "[98.92395982783357]\n",
      "[98.04409672830725]\n",
      "[100.0]\n",
      "[100.0]\n",
      "[100.0]\n",
      "[94.6949602122016]\n",
      "[76.60818713450293]\n",
      "[100.0]\n",
      "[76.43312101910828]\n",
      "[98.92966360856269]\n",
      "[98.05389221556887]\n",
      "[98.23008849557522]\n",
      "[95.4868154158215]\n",
      "[99.89868287740629]\n",
      "[99.89858012170384]\n",
      "[100.0]\n",
      "[93.3768188660311]\n",
      "[99.00695134061569]\n",
      "[96.89655172413794]\n",
      "[99.30662557781201]\n",
      "[99.69278033794163]\n",
      "[99.84615384615385]\n",
      "[99.69278033794163]\n",
      "[99.84662576687117]\n",
      "[99.61597542242704]\n",
      "[100.0]\n",
      "[100.0]\n",
      "[100.0]\n",
      "[100.0]\n",
      "[100.0]\n",
      "[99.34333958724203]\n",
      "[99.28571428571429]\n",
      "[100.0]\n",
      "[100.0]\n",
      "[100.0]\n",
      "[100.0]\n",
      "[100.0]\n",
      "[100.0]\n",
      "[99.9755938821998]\n",
      "[99.80065093572009]\n",
      "[99.81692432872254]\n",
      "[99.83728592930073]\n",
      "[99.85355137905785]\n",
      "[99.93876301285977]\n",
      "[99.72375690607734]\n",
      "[100.0]\n",
      "[98.55384615384615]\n",
      "[99.9384236453202]\n",
      "[99.75384615384615]\n",
      "[94.88243430152143]\n",
      "[97.46328437917224]\n",
      "[99.60732984293193]\n",
      "[99.47916666666666]\n",
      "[99.61583924349881]\n",
      "[99.55921245959448]\n",
      "[98.86792452830188]\n",
      "[99.94246260069045]\n",
      "[100.0]\n",
      "[98.96707553260168]\n",
      "[100.0]\n",
      "[98.96840747904577]\n",
      "[99.93556701030928]\n",
      "[99.93079584775086]\n",
      "[100.0]\n",
      "[100.0]\n",
      "[99.7581202487906]\n",
      "[99.93089149965446]\n",
      "[99.63805584281282]\n",
      "[99.69104016477857]\n",
      "[99.53846153846155]\n",
      "[100.0]\n",
      "[100.0]\n",
      "[95.10552312528064]\n",
      "[99.82190560997329]\n",
      "[99.95555555555555]\n",
      "[100.0]\n",
      "[100.0]\n",
      "[100.0]\n",
      "[99.96956786366404]\n",
      "[100.0]\n",
      "[99.69696969696969]\n",
      "[99.69696969696969]\n",
      "[99.54476479514416]\n",
      "[100.0]\n",
      "[98.88268156424581]\n",
      "[99.88839285714286]\n",
      "[100.0]\n",
      "[97.41282339707537]\n",
      "[99.27920288318846]\n",
      "[99.38012187434336]\n",
      "[99.84306340238544]\n",
      "[100.0]\n",
      "[99.90996398559425]\n",
      "[99.67046135410426]\n",
      "[100.0]\n",
      "[99.9700777977259]\n",
      "[99.90215264187867]\n",
      "[99.95112414467253]\n",
      "[99.50980392156863]\n",
      "[100.0]\n",
      "[99.99016522423288]\n",
      "[99.89181746656176]\n",
      "[99.87219819111286]\n",
      "[88.72180451127821]\n",
      "[99.58046149235841]\n",
      "[98.21162444113264]\n",
      "[100.0]\n",
      "[99.812734082397]\n",
      "[100.0]\n",
      "[100.0]\n",
      "[99.74442460525856]\n",
      "[98.67218186242135]\n",
      "[99.67215377713359]\n",
      "[99.73341232227489]\n",
      "[99.91124260355029]\n",
      "[100.0]\n",
      "[96.22396958437743]\n",
      "[99.59105324653648]\n",
      "[99.98333888703766]\n",
      "[99.89572471324296]\n",
      "[100.0]\n",
      "[100.0]\n",
      "[100.0]\n",
      "[99.82046678635548]\n",
      "[99.82068141063957]\n",
      "[81.4935064935065]\n",
      "[100.0]\n",
      "[99.59128065395095]\n",
      "[99.8639455782313]\n",
      "[94.0]\n",
      "[98.74213836477988]\n",
      "[100.0]\n",
      "[99.88235294117646]\n",
      "[100.0]\n",
      "[99.65870307167235]\n",
      "[99.9681224099458]\n",
      "[97.14201532115499]\n",
      "[97.88812785388129]\n",
      "[89.3765903307888]\n",
      "[99.92498124531133]\n",
      "[99.78973927670312]\n",
      "[99.02830587241233]\n",
      "[99.96827411167513]\n",
      "[99.53820319059614]\n",
      "[96.875]\n",
      "[100.0]\n",
      "[100.0]\n",
      "[100.0]\n",
      "[100.0]\n",
      "[100.0]\n"
     ]
    }
   ],
   "source": [
    "import csv\n",
    "\n",
    "output = open(Com_type + '_values.csv', 'w')\n",
    "wr = csv.writer(output, quoting=csv.QUOTE_NONE, lineterminator='\\n')\n",
    "#print(a)\n",
    "for val in a:\n",
    "    print([val])\n",
    "    wr.writerow([float(val)])\n"
   ]
  },
  {
   "cell_type": "code",
   "execution_count": null,
   "metadata": {
    "collapsed": true
   },
   "outputs": [],
   "source": []
  },
  {
   "cell_type": "code",
   "execution_count": null,
   "metadata": {
    "collapsed": true
   },
   "outputs": [],
   "source": []
  }
 ],
 "metadata": {
  "kernelspec": {
   "display_name": "Python 3",
   "language": "python",
   "name": "python3"
  },
  "language_info": {
   "codemirror_mode": {
    "name": "ipython",
    "version": 3
   },
   "file_extension": ".py",
   "mimetype": "text/x-python",
   "name": "python",
   "nbconvert_exporter": "python",
   "pygments_lexer": "ipython3",
   "version": "3.5.0"
  }
 },
 "nbformat": 4,
 "nbformat_minor": 0
}
